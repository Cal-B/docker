{
 "metadata": {
  "language_info": {
   "codemirror_mode": {
    "name": "ipython",
    "version": 3
   },
   "file_extension": ".py",
   "mimetype": "text/x-python",
   "name": "python",
   "nbconvert_exporter": "python",
   "pygments_lexer": "ipython3",
   "version": "3.6.9-final"
  },
  "orig_nbformat": 2,
  "kernelspec": {
   "name": "Python 3.6.9 64-bit",
   "display_name": "Python 3.6.9 64-bit",
   "metadata": {
    "interpreter": {
     "hash": "31f2aee4e71d21fbe5cf8b01ff0e069b9275f58929596ceb00d14d90e3e16cd6"
    }
   }
  }
 },
 "nbformat": 4,
 "nbformat_minor": 2,
 "cells": [
  {
   "cell_type": "code",
   "execution_count": 4,
   "metadata": {},
   "outputs": [
    {
     "output_type": "stream",
     "name": "stdout",
     "text": [
      "latlong has 14826104 entries\n  voter_name_last voter_name_suffix voter_name_first voter_name_middle  \\\n0            Moor               NaN           Margie                Jo   \n1          Casesa               NaN           Philip                 A   \n2         Kindred               NaN          William      John Charles   \n3           Athas               NaN            Joann             Marie   \n4      Wettlaufer               NaN             Mary             Ellen   \n\n  res_street_address_line_1 res_street_address_line_2       res_city  \\\n0       94   Clairmont Ave                                    Debary   \n1           3186   Noah St                                   Deltona   \n2      117   King Eider Ct                             Daytona Beach   \n3    109  N Paul Revere DR                             Daytona Beach   \n4      5   Linden Falls Dr                              Ormond Beach   \n\n  res_state res_zipcode  race   latitude  longitude removed county_desc  \\\n0                 32713     5  28.909913 -81.306920       N         VOL   \n1                 32738     5  28.894916 -81.174779       N         VOL   \n2                 32119     5  29.144254 -81.050425       N         VOL   \n3                 32119     5  29.163775 -81.045408       N         VOL   \n4                 32174     5  29.268208 -81.089029       N         VOL   \n\n  latlong_found  \n0             Y  \n1             Y  \n2             Y  \n3             Y  \n4             Y  \n"
     ]
    }
   ],
   "source": [
    "import pandas\n",
    "import numpy\n",
    "\n",
    "\n",
    "# parsed_data = pandas.DataFrame(columns = ['voter_name_last', 'voter_name_suffix', 'voter_name_first', 'voter_name_middle', 'res_street_address_line_1', 'res_street_address_line_2', 'res_city', 'res_state', 'res_zipcode', 'race'])\n",
    "# src = '/home/h302/Downloads/FloridaData/voter_data_by_county'\n",
    "# print(\"Reading files into dataframe...\")\n",
    "# filenames = (f for f in os.listdir(src) if f.endswith('.txt'))\n",
    "# for pos, file in enumerate(filenames):\n",
    "#     print(\"Loading \" + os.path.join(src,file) + \"...\")\n",
    "#     extracted_data = pandas.read_csv(os.path.join(src,file), usecols=[0], names = ['county_desc'], sep='\\t', header=None)\n",
    "#     parsed_data = parsed_data.append(extracted_data, ignore_index = True)\n",
    "# print(\"Done\")\n",
    "# print(\"Original has \" + str(len(parsed_data.index)) + \" entries\")\n",
    "\n",
    "latlong_csv = pandas.read_csv(\"~/Downloads/flvoters_statewide_latsandlongs_found.csv\", sep='\\t')\n",
    "print(\"latlong has \" + str(len(latlong_csv.index)) + \" entries\")\n",
    "\n",
    "print(latlong_csv.head(5))\n",
    "\n",
    "\n"
   ]
  },
  {
   "cell_type": "code",
   "execution_count": 6,
   "metadata": {},
   "outputs": [
    {
     "output_type": "error",
     "ename": "NameError",
     "evalue": "name 'voter_data' is not defined",
     "traceback": [
      "\u001b[0;31m---------------------------------------------------------------------------\u001b[0m",
      "\u001b[0;31mNameError\u001b[0m                                 Traceback (most recent call last)",
      "\u001b[0;32m<ipython-input-6-e3473c18c643>\u001b[0m in \u001b[0;36m<module>\u001b[0;34m\u001b[0m\n\u001b[1;32m      2\u001b[0m \u001b[0;31m# latlong_csv.to_csv(\"~/Downloads/flvoters_statewide_latsandlongs_found.csv\", mode='w', header=True, sep='\\t', index=False)\u001b[0m\u001b[0;34m\u001b[0m\u001b[0;34m\u001b[0m\u001b[0;34m\u001b[0m\u001b[0m\n\u001b[1;32m      3\u001b[0m \u001b[0;32mfrom\u001b[0m \u001b[0mtabulate\u001b[0m \u001b[0;32mimport\u001b[0m \u001b[0mtabulate\u001b[0m\u001b[0;34m\u001b[0m\u001b[0;34m\u001b[0m\u001b[0m\n\u001b[0;32m----> 4\u001b[0;31m \u001b[0mprint\u001b[0m\u001b[0;34m(\u001b[0m\u001b[0mtabulate\u001b[0m\u001b[0;34m(\u001b[0m\u001b[0mvoter_data\u001b[0m\u001b[0;34m.\u001b[0m\u001b[0mgroupby\u001b[0m\u001b[0;34m(\u001b[0m\u001b[0;34m[\u001b[0m\u001b[0;34m'race'\u001b[0m\u001b[0;34m,\u001b[0m \u001b[0;34m'latlong_found'\u001b[0m\u001b[0;34m,\u001b[0m \u001b[0;34m'removed'\u001b[0m\u001b[0;34m]\u001b[0m\u001b[0;34m)\u001b[0m\u001b[0;34m.\u001b[0m\u001b[0msize\u001b[0m\u001b[0;34m(\u001b[0m\u001b[0;34m)\u001b[0m\u001b[0;34m.\u001b[0m\u001b[0mreset_index\u001b[0m\u001b[0;34m(\u001b[0m\u001b[0;34m)\u001b[0m\u001b[0;34m.\u001b[0m\u001b[0mrename\u001b[0m\u001b[0;34m(\u001b[0m\u001b[0mcolumns\u001b[0m\u001b[0;34m=\u001b[0m\u001b[0;34m{\u001b[0m\u001b[0;36m0\u001b[0m\u001b[0;34m:\u001b[0m\u001b[0;34m'count'\u001b[0m\u001b[0;34m}\u001b[0m\u001b[0;34m)\u001b[0m\u001b[0;34m,\u001b[0m \u001b[0mheaders\u001b[0m\u001b[0;34m=\u001b[0m\u001b[0;34m'keys'\u001b[0m\u001b[0;34m,\u001b[0m \u001b[0mtablefmt\u001b[0m\u001b[0;34m=\u001b[0m\u001b[0;34m'psql'\u001b[0m\u001b[0;34m,\u001b[0m \u001b[0mshowindex\u001b[0m\u001b[0;34m=\u001b[0m\u001b[0;32mFalse\u001b[0m\u001b[0;34m)\u001b[0m\u001b[0;34m)\u001b[0m\u001b[0;34m\u001b[0m\u001b[0;34m\u001b[0m\u001b[0m\n\u001b[0m",
      "\u001b[0;31mNameError\u001b[0m: name 'voter_data' is not defined"
     ]
    }
   ],
   "source": [
    "# latlong_csv['latlong_found'] = numpy.where(pandas.isna(latlong_csv['latitude']), 'N', 'Y')\n",
    "# latlong_csv.to_csv(\"~/Downloads/flvoters_statewide_latsandlongs_found.csv\", mode='w', header=True, sep='\\t', index=False)\n",
    "from tabulate import tabulate\n",
    "print(tabulate(latlong_csv.groupby(['race', 'latlong_found', 'removed']).size().reset_index().rename(columns={0:'count'}), headers='keys', tablefmt='psql', showindex=False))"
   ]
  },
  {
   "source": [
    "counties = []\n",
    "longitudes = []\n",
    "removed = []\n",
    "additional = []\n",
    "\n",
    "successful = 0\n",
    "\n",
    "latlong_csv_pos = 0\n",
    "\n",
    "# print(\" source \")\n",
    "# print(source_csv.shape)\n",
    "# print(\" latlong \")\n",
    "# print(latlong_csv.shape)\n",
    "for index, row in enumerate(source_csv.itertuples()):\n",
    "    if (index % 100000 == 0):\n",
    "        print(str(index) + \" processed, \" + str(successful) + \" successful\")\n",
    "    if (str(row.res_street_address) == str(latlong_csv.iloc[latlong_csv_pos]['res_street_address'])) and (str(row.last_name) == str(latlong_csv.iloc[latlong_csv_pos]['last_name'])) and (str(row.first_name) == str(latlong_csv.iloc[latlong_csv_pos]['first_name'])) and (str(row.middle_name) == str(latlong_csv.iloc[latlong_csv_pos]['middle_name'])) and (str(row.res_city_desc) == str(latlong_csv.iloc[latlong_csv_pos]['res_city_desc'])) and (str(row.state_cd) == str(latlong_csv.iloc[latlong_csv_pos]['state_cd'])) and (str(row.zip_code) == str(latlong_csv.iloc[latlong_csv_pos]['zip_code'])) and (str(row.race_code) == str(latlong_csv.iloc[latlong_csv_pos]['race_code'])) and (str(row.ethnic_code) == str(latlong_csv.iloc[latlong_csv_pos]['ethnic_code'])):\n",
    "        # We have a match for the row!\n",
    "        print(\"Match\")\n",
    "        latitudes.append(str(latlong_csv.iloc[latlong_csv_pos]['latitude']))\n",
    "        longitudes.append(str(latlong_csv.iloc[latlong_csv_pos]['longitude']))\n",
    "        additional.append('N')\n",
    "        if (str(row.res_street_address) == \"REMOVED\"):\n",
    "            removed.append('Y')\n",
    "        else:\n",
    "            removed.append('N')\n",
    "        latlong_csv_pos += 1\n",
    "        successful += 1\n",
    "    else:\n",
    "        # We don't have a match between the csvs \n",
    "        while (not ((str(row.res_street_address) == str(latlong_csv.iloc[latlong_csv_pos]['res_street_address'])) and (str(row.last_name) == str(latlong_csv.iloc[latlong_csv_pos]['last_name'])) and (str(row.first_name) == str(latlong_csv.iloc[latlong_csv_pos]['first_name'])) and (str(row.middle_name) == str(latlong_csv.iloc[latlong_csv_pos]['middle_name'])) and (str(row.res_city_desc) == str(latlong_csv.iloc[latlong_csv_pos]['res_city_desc'])) and (str(row.state_cd) == str(latlong_csv.iloc[latlong_csv_pos]['state_cd'])) and (str(row.zip_code) == str(latlong_csv.iloc[latlong_csv_pos]['zip_code'])) and (str(row.race_code) == str(latlong_csv.iloc[latlong_csv_pos]['race_code'])) and (str(row.ethnic_code) == str(latlong_csv.iloc[latlong_csv_pos]['ethnic_code'])))):\n",
    "            \n",
    "            latlong_csv_pos += 1\n",
    "        \n",
    "        # We have a match for the row!\n",
    "        latitudes.append(str(latlong_csv.iloc[latlong_csv_pos]['latitude']))\n",
    "        longitudes.append(str(latlong_csv.iloc[latlong_csv_pos]['longitude']))\n",
    "        additional.append('N')\n",
    "        if (str(row.res_street_address) == \"REMOVED\"):\n",
    "            removed.append('Y')\n",
    "        else:\n",
    "            removed.append('N')\n",
    "        latlong_csv_pos += 1\n",
    "        successful += 1\n",
    "\n",
    "        additional.append('Y')\n",
    "    \n",
    "\n",
    "source_csv['removed'] = pandas.Series(removed)\n",
    "source_csv['latitude'] = pandas.Series(latitudes)\n",
    "source_csv['longitude'] = pandas.Series(longitudes)\n",
    "source_csv.to_csv(\"~/Downloads/ncvoter_statewide_latsandlongs_corrected.csv\", mode='w', header=True, sep='\\t', index=False)\n",
    "print(successful)\n",
    "\n",
    "\n",
    "    \n",
    "   #if (str(row['res_street_address']) == str(latlong_csv.iloc[[latlong_csv_pos]].res_street_address[0])"
   ],
   "cell_type": "code",
   "metadata": {
    "tags": []
   },
   "execution_count": null,
   "outputs": []
  },
  {
   "cell_type": "code",
   "execution_count": null,
   "metadata": {},
   "outputs": [],
   "source": []
  }
 ]
}