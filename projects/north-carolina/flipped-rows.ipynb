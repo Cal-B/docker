{
 "metadata": {
  "language_info": {
   "codemirror_mode": {
    "name": "ipython",
    "version": 3
   },
   "file_extension": ".py",
   "mimetype": "text/x-python",
   "name": "python",
   "nbconvert_exporter": "python",
   "pygments_lexer": "ipython3",
   "version": "3.6.9-final"
  },
  "orig_nbformat": 2,
  "kernelspec": {
   "name": "Python 3.6.9 64-bit",
   "display_name": "Python 3.6.9 64-bit",
   "metadata": {
    "interpreter": {
     "hash": "31f2aee4e71d21fbe5cf8b01ff0e069b9275f58929596ceb00d14d90e3e16cd6"
    }
   }
  }
 },
 "nbformat": 4,
 "nbformat_minor": 2,
 "cells": [
  {
   "cell_type": "code",
   "execution_count": 24,
   "metadata": {},
   "outputs": [],
   "source": [
    "import pandas\n",
    "import numpy \n",
    "\n",
    "original = pandas.read_csv(\"~/Downloads/ncvoter_statewide_latsandlongs_corrected.csv\", sep='\\t')"
   ]
  },
  {
   "cell_type": "code",
   "execution_count": 28,
   "metadata": {},
   "outputs": [
    {
     "output_type": "stream",
     "name": "stdout",
     "text": [
      "\nResult dataframe :\n               res_street_address res_city_desc state_cd  zip_code   latitude  \\\n292820  605  RIVER RIDGE DR   #6     SHALLOTTE       NC   28470.0 -82.509722   \n292821  605  RIVER RIDGE DR   #6     SHALLOTTE       NC   28470.0 -82.509722   \n316264  605  RIVER RIDGE DR   #5     SHALLOTTE       NC   28470.0 -82.509722   \n316270  605  RIVER RIDGE DR   #5     SHALLOTTE       NC   28470.0 -82.509722   \n337626  605  RIVER RIDGE DR   #4     SHALLOTTE       NC   28470.0 -82.509722   \n343603  605  RIVER RIDGE DR   #4     SHALLOTTE       NC   28470.0 -82.509722   \n343728  605  RIVER RIDGE DR   #4     SHALLOTTE       NC   28470.0 -82.509722   \n365978  605  RIVER RIDGE DR   #C     SHALLOTTE       NC   28470.0 -82.509722   \n365994  605  RIVER RIDGE DR   #C     SHALLOTTE       NC   28470.0 -82.509722   \n393278  605  RIVER RIDGE DR   #2     SHALLOTTE       NC   28470.0 -82.509722   \n397384  605  RIVER RIDGE DR   #2     SHALLOTTE       NC   28470.0 -82.509722   \n\n        longitude  \n292820    35.5737  \n292821    35.5737  \n316264    35.5737  \n316270    35.5737  \n337626    35.5737  \n343603    35.5737  \n343728    35.5737  \n365978    35.5737  \n365994    35.5737  \n393278    35.5737  \n397384    35.5737  \n"
     ]
    }
   ],
   "source": [
    "rslt_df = original[original['latitude'] == -82.509722] \n",
    "\n",
    "print('\\nResult dataframe :\\n', rslt_df[['res_street_address', 'res_city_desc', 'state_cd', 'zip_code', 'latitude', 'longitude']]) \n",
    "\n"
   ]
  },
  {
   "cell_type": "code",
   "execution_count": 17,
   "metadata": {},
   "outputs": [
    {
     "output_type": "stream",
     "name": "stdout",
     "text": [
      "47 flipped failed to resolve :770 flipped resolved\n"
     ]
    }
   ],
   "source": [
    "import requests\n",
    "import argparse\n",
    "#from pathlib import Path\n",
    "import os\n",
    "import urllib.request, urllib.parse, urllib.error, json\n",
    "from json_extract import flatten_json\n",
    "\n",
    "url_header = \"http://localhost:4000/v1/autocomplete?text=\"\n",
    "\n",
    "flipped_resolved = 0\n",
    "flipped_none = 0\n",
    "\n",
    "for index, row in original.iterrows():\n",
    "    if ((not pandas.isna(row['latitude'])) and (row['latitude'] < 0.0)):\n",
    "        \n",
    "        res_address = str(row['res_street_address']).split(\"#\", 1)[0]\n",
    "        zipcode = str(row['zip_code']).split(\".\", 1)[0]\n",
    "        full_location = res_address + \", \" + str(row['res_city_desc']) + \", NC \" + zipcode\n",
    "        full_location = ' '.join(full_location.split())\n",
    "        #print(full_location)\n",
    "        response = urllib.request.urlopen(url_header + urllib.parse.quote((full_location).encode('utf-8')))\n",
    "        json_data = json.loads(response.read())\n",
    "        coords = flatten_json(json_data)\n",
    "        try:\n",
    "            latitude = coords['features_0_geometry_coordinates_1']\n",
    "            longitude = coords['features_0_geometry_coordinates_0']\n",
    "            flipped_resolved += 1\n",
    "        except KeyError:\n",
    "            latitude = \"\"\n",
    "            longitude = \"\"\n",
    "            flipped_none += 1\n",
    "        \n",
    "        original.loc[index, 'latitude'] = latitude\n",
    "        original.loc[index, 'longitude'] = longitude\n",
    "    else:\n",
    "        continue\n",
    "\n",
    "print(str(flipped_none) + \" flipped failed to resolve :\" + str(flipped_resolved) + \" flipped resolved\")\n",
    "# noflips = original[original['latitude'] < 0.0]\n",
    "# print('\\nResult dataframe :\\n', rslt_df[['res_street_address', 'res_city_desc', 'state_cd', 'zip_code', 'latitude', 'longitude']]) \n",
    "\n",
    "\n",
    "original.to_csv(\"~/Downloads/ncvoter_statewide_latsandlongs_noflips.csv\", mode='w', header=True, sep='\\t', index=False)\n",
    "\n",
    "\n",
    "            "
   ]
  },
  {
   "cell_type": "code",
   "execution_count": 29,
   "metadata": {},
   "outputs": [
    {
     "output_type": "stream",
     "name": "stdout",
     "text": [
      "\nResult dataframe :\n               res_street_address res_city_desc state_cd  zip_code   latitude  \\\n292820  605  RIVER RIDGE DR   #6     SHALLOTTE       NC   28470.0  33.956536   \n292821  605  RIVER RIDGE DR   #6     SHALLOTTE       NC   28470.0  33.956536   \n316264  605  RIVER RIDGE DR   #5     SHALLOTTE       NC   28470.0  33.956536   \n316270  605  RIVER RIDGE DR   #5     SHALLOTTE       NC   28470.0  33.956536   \n337626  605  RIVER RIDGE DR   #4     SHALLOTTE       NC   28470.0  33.956536   \n343603  605  RIVER RIDGE DR   #4     SHALLOTTE       NC   28470.0  33.956536   \n343728  605  RIVER RIDGE DR   #4     SHALLOTTE       NC   28470.0  33.956536   \n365978  605  RIVER RIDGE DR   #C     SHALLOTTE       NC   28470.0  33.956536   \n365994  605  RIVER RIDGE DR   #C     SHALLOTTE       NC   28470.0  33.956536   \n393278  605  RIVER RIDGE DR   #2     SHALLOTTE       NC   28470.0  33.956536   \n397384  605  RIVER RIDGE DR   #2     SHALLOTTE       NC   28470.0  33.956536   \n449378    605  RIVER RIDGE DR        ASHEVILLE       NC   28803.0  35.573701   \n449379    605  RIVER RIDGE DR        ASHEVILLE       NC   28803.0  35.573701   \n552310   1605  RIVER RIDGE DR        ASHEVILLE       NC   28803.0  35.572967   \n598939   2605  RIVER RIDGE DR        ASHEVILLE       NC   28803.0  35.574274   \n634946   1605  RIVER RIDGE DR        ASHEVILLE       NC   28803.0  35.572967   \n634947   1605  RIVER RIDGE DR        ASHEVILLE       NC   28803.0  35.572967   \n\n        longitude  \n292820 -78.372372  \n292821 -78.372372  \n316264 -78.372372  \n316270 -78.372372  \n337626 -78.372372  \n343603 -78.372372  \n343728 -78.372372  \n365978 -78.372372  \n365994 -78.372372  \n393278 -78.372372  \n397384 -78.372372  \n449378 -82.509722  \n449379 -82.509722  \n552310 -82.505746  \n598939 -82.508615  \n634946 -82.505746  \n634947 -82.505746  \n"
     ]
    }
   ],
   "source": [
    "newdf = pandas.read_csv(\"~/Downloads/ncvoter_statewide_latsandlons.csv\", sep='\\t')\n",
    "# newdff = pandas.read_csv(\"~/Downloads/ncvoter_statewide_latsandlongs_corrected.csv\", sep='\\t')\n",
    "\n",
    "newrslt_df = newdf[newdf['res_street_address'].str.contains(\"605  RIVER RIDGE DR\")] \n",
    "\n",
    "print('\\nResult dataframe :\\n', newrslt_df[['res_street_address', 'res_city_desc', 'state_cd', 'zip_code', 'latitude', 'longitude']]) \n",
    "\n"
   ]
  },
  {
   "cell_type": "code",
   "execution_count": null,
   "metadata": {},
   "outputs": [],
   "source": []
  }
 ]
}